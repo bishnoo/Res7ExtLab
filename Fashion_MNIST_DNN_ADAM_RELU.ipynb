{
  "nbformat": 4,
  "nbformat_minor": 0,
  "metadata": {
    "colab": {
      "name": "Fashion_MNIST_DNN_ADAM_RELU.ipynb",
      "version": "0.3.2",
      "provenance": []
    },
    "kernelspec": {
      "display_name": "Python 3",
      "language": "python",
      "name": "python3"
    }
  },
  "cells": [
    {
      "metadata": {
        "id": "sT5gmnBCFifc",
        "colab_type": "text"
      },
      "cell_type": "markdown",
      "source": [
        "### Build a DNN using Keras with `RELU` and `ADAM`"
      ]
    },
    {
      "metadata": {
        "slideshow": {
          "slide_type": "slide"
        },
        "id": "Pf9I6IxiFife",
        "colab_type": "text"
      },
      "cell_type": "markdown",
      "source": [
        "#### Load tensorflow"
      ]
    },
    {
      "metadata": {
        "id": "YZzxO5MRFiff",
        "colab_type": "code",
        "colab": {}
      },
      "cell_type": "code",
      "source": [
        "import tensorflow as tf"
      ],
      "execution_count": 0,
      "outputs": []
    },
    {
      "metadata": {
        "slideshow": {
          "slide_type": "slide"
        },
        "id": "4gt-gIM7Fifk",
        "colab_type": "text"
      },
      "cell_type": "markdown",
      "source": [
        "#### Collect Fashion mnist data from tf.keras.datasets "
      ]
    },
    {
      "metadata": {
        "id": "x2YJfpNpFifl",
        "colab_type": "code",
        "colab": {
          "base_uri": "https://localhost:8080/",
          "height": 170
        },
        "outputId": "ab1b0943-83fa-4bc0-c06d-fc6b255aab02"
      },
      "cell_type": "code",
      "source": [
        "from keras.datasets import fashion_mnist\n",
        "(x_train, y_train), (x_test, y_test) = fashion_mnist.load_data()"
      ],
      "execution_count": 2,
      "outputs": [
        {
          "output_type": "stream",
          "text": [
            "Using TensorFlow backend.\n"
          ],
          "name": "stderr"
        },
        {
          "output_type": "stream",
          "text": [
            "Downloading data from http://fashion-mnist.s3-website.eu-central-1.amazonaws.com/train-labels-idx1-ubyte.gz\n",
            "32768/29515 [=================================] - 0s 3us/step\n",
            "Downloading data from http://fashion-mnist.s3-website.eu-central-1.amazonaws.com/train-images-idx3-ubyte.gz\n",
            "26427392/26421880 [==============================] - 2s 0us/step\n",
            "Downloading data from http://fashion-mnist.s3-website.eu-central-1.amazonaws.com/t10k-labels-idx1-ubyte.gz\n",
            "8192/5148 [===============================================] - 0s 0us/step\n",
            "Downloading data from http://fashion-mnist.s3-website.eu-central-1.amazonaws.com/t10k-images-idx3-ubyte.gz\n",
            "4423680/4422102 [==============================] - 1s 0us/step\n"
          ],
          "name": "stdout"
        }
      ]
    },
    {
      "metadata": {
        "slideshow": {
          "slide_type": "slide"
        },
        "id": "HKIrMR9qFifz",
        "colab_type": "text"
      },
      "cell_type": "markdown",
      "source": [
        "#### Change train and test labels into one-hot vectors"
      ]
    },
    {
      "metadata": {
        "id": "O8AtaeIRFif1",
        "colab_type": "code",
        "colab": {}
      },
      "cell_type": "code",
      "source": [
        "y_train=tf.keras.utils.to_categorical(y_train)\n",
        "y_test=tf.keras.utils.to_categorical(y_test)"
      ],
      "execution_count": 0,
      "outputs": []
    },
    {
      "metadata": {
        "id": "ZvUbO3vsFif5",
        "colab_type": "code",
        "colab": {
          "base_uri": "https://localhost:8080/",
          "height": 34
        },
        "outputId": "15d77abb-0405-412c-a0cf-82d1f4781ac4"
      },
      "cell_type": "code",
      "source": [
        "y_train.shape"
      ],
      "execution_count": 4,
      "outputs": [
        {
          "output_type": "execute_result",
          "data": {
            "text/plain": [
              "(60000, 10)"
            ]
          },
          "metadata": {
            "tags": []
          },
          "execution_count": 4
        }
      ]
    },
    {
      "metadata": {
        "id": "alhB3DzfFif_",
        "colab_type": "code",
        "colab": {
          "base_uri": "https://localhost:8080/",
          "height": 34
        },
        "outputId": "bf8017df-b955-46ba-f6c3-8afd89efdce7"
      },
      "cell_type": "code",
      "source": [
        "x_train.shape"
      ],
      "execution_count": 5,
      "outputs": [
        {
          "output_type": "execute_result",
          "data": {
            "text/plain": [
              "(60000, 28, 28)"
            ]
          },
          "metadata": {
            "tags": []
          },
          "execution_count": 5
        }
      ]
    },
    {
      "metadata": {
        "slideshow": {
          "slide_type": "slide"
        },
        "id": "46ykkHcuFigE",
        "colab_type": "text"
      },
      "cell_type": "markdown",
      "source": [
        "#### Build the Graph"
      ]
    },
    {
      "metadata": {
        "id": "Vm9vdzqrFigG",
        "colab_type": "text"
      },
      "cell_type": "markdown",
      "source": [
        "#### Initialize model, reshape & normalize data"
      ]
    },
    {
      "metadata": {
        "id": "5sHFCHS3FigI",
        "colab_type": "code",
        "colab": {}
      },
      "cell_type": "code",
      "source": [
        "model = tf.keras.models.Sequential()"
      ],
      "execution_count": 0,
      "outputs": []
    },
    {
      "metadata": {
        "id": "imR8ZENHFigN",
        "colab_type": "code",
        "colab": {}
      },
      "cell_type": "code",
      "source": [
        "x_train = x_train/255\n",
        "x_test = x_test/255\n",
        "y_train = y_train/255\n",
        "y_test = y_test/255"
      ],
      "execution_count": 0,
      "outputs": []
    },
    {
      "metadata": {
        "id": "hAUveaTjFigR",
        "colab_type": "code",
        "colab": {}
      },
      "cell_type": "code",
      "source": [
        "x_train = x_train.reshape(x_train.shape[0], 28, 28, 1).astype('float32')\n",
        "x_test = x_test.reshape(x_test.shape[0], 28, 28, 1).astype('float32')"
      ],
      "execution_count": 0,
      "outputs": []
    },
    {
      "metadata": {
        "id": "EvAd6no1FigV",
        "colab_type": "code",
        "colab": {}
      },
      "cell_type": "code",
      "source": [
        "from __future__ import absolute_import, division, print_function\n",
        "import numpy as np\n",
        "import keras\n",
        "from keras.datasets import cifar10, mnist\n",
        "from keras.models import Sequential\n",
        "from keras.layers import Dense, Activation, Dropout, Flatten, Reshape\n",
        "from keras.layers import Convolution2D, MaxPooling2D\n",
        "from keras.utils import np_utils\n",
        "import pickle\n",
        "from matplotlib import pyplot as plt\n",
        "import seaborn as sns\n",
        "plt.rcParams['figure.figsize'] = (15, 8)"
      ],
      "execution_count": 0,
      "outputs": []
    },
    {
      "metadata": {
        "slideshow": {
          "slide_type": "slide"
        },
        "id": "fl7dkWN8FigZ",
        "colab_type": "text"
      },
      "cell_type": "markdown",
      "source": [
        "#### Add two fully connected layers with 200 and 100 neurons respectively with `relu` activations. Add a dropout layer with `p=0.25`"
      ]
    },
    {
      "metadata": {
        "id": "8dyA8tP8Figb",
        "colab_type": "code",
        "colab": {
          "base_uri": "https://localhost:8080/",
          "height": 85
        },
        "outputId": "b4258958-ec1c-41ad-e797-deb58c76467b"
      },
      "cell_type": "code",
      "source": [
        "model1 = Sequential()\n",
        "    # 1st Conv Layer\n",
        "model1.add(Convolution2D(32, 3, 3, input_shape=(28, 28, 1)))\n",
        "model1.add(Activation('relu'))\n",
        "\n",
        "    # 2nd Conv Layer\n",
        "model1.add(Convolution2D(32, 3, 3))\n",
        "model1.add(Activation('relu'))\n",
        "\n",
        "    # Fully Connected Layer\n",
        "model1.add(Flatten())\n",
        "model1.add(Dense(200))\n",
        "model1.add(Activation('relu'))\n",
        "model1.add(Dropout(0.25))\n",
        "model1.add(Dense(100))\n",
        "model1.add(Activation('relu'))"
      ],
      "execution_count": 10,
      "outputs": [
        {
          "output_type": "stream",
          "text": [
            "/usr/local/lib/python3.6/dist-packages/ipykernel_launcher.py:3: UserWarning: Update your `Conv2D` call to the Keras 2 API: `Conv2D(32, (3, 3), input_shape=(28, 28, 1...)`\n",
            "  This is separate from the ipykernel package so we can avoid doing imports until\n",
            "/usr/local/lib/python3.6/dist-packages/ipykernel_launcher.py:7: UserWarning: Update your `Conv2D` call to the Keras 2 API: `Conv2D(32, (3, 3))`\n",
            "  import sys\n"
          ],
          "name": "stderr"
        }
      ]
    },
    {
      "metadata": {
        "id": "KknpILMiFigh",
        "colab_type": "text"
      },
      "cell_type": "markdown",
      "source": [
        "### Add the output layer with a fully connected layer with 10 neurons with `softmax` activation. Use `categorical_crossentropy` loss and `adam` optimizer and train the network. And, report the final validation."
      ]
    },
    {
      "metadata": {
        "id": "rUxDwFMJFigi",
        "colab_type": "code",
        "colab": {}
      },
      "cell_type": "code",
      "source": [
        "    # Prediction Layer\n",
        "model1.add(Dense(10))\n",
        "model1.add(Activation('softmax'))\n",
        "\n",
        "    # Loss and Optimizer\n",
        "model1.compile(loss='categorical_crossentropy', optimizer='adam', metrics=['accuracy'])"
      ],
      "execution_count": 0,
      "outputs": []
    },
    {
      "metadata": {
        "id": "g37Q8U7lFigm",
        "colab_type": "code",
        "colab": {
          "base_uri": "https://localhost:8080/",
          "height": 544
        },
        "outputId": "49d54d2d-0028-433d-b4b1-b2fd9fe084d1"
      },
      "cell_type": "code",
      "source": [
        "model1.summary()"
      ],
      "execution_count": 12,
      "outputs": [
        {
          "output_type": "stream",
          "text": [
            "_________________________________________________________________\n",
            "Layer (type)                 Output Shape              Param #   \n",
            "=================================================================\n",
            "conv2d_1 (Conv2D)            (None, 26, 26, 32)        320       \n",
            "_________________________________________________________________\n",
            "activation_1 (Activation)    (None, 26, 26, 32)        0         \n",
            "_________________________________________________________________\n",
            "conv2d_2 (Conv2D)            (None, 24, 24, 32)        9248      \n",
            "_________________________________________________________________\n",
            "activation_2 (Activation)    (None, 24, 24, 32)        0         \n",
            "_________________________________________________________________\n",
            "flatten_1 (Flatten)          (None, 18432)             0         \n",
            "_________________________________________________________________\n",
            "dense_1 (Dense)              (None, 200)               3686600   \n",
            "_________________________________________________________________\n",
            "activation_3 (Activation)    (None, 200)               0         \n",
            "_________________________________________________________________\n",
            "dropout_1 (Dropout)          (None, 200)               0         \n",
            "_________________________________________________________________\n",
            "dense_2 (Dense)              (None, 100)               20100     \n",
            "_________________________________________________________________\n",
            "activation_4 (Activation)    (None, 100)               0         \n",
            "_________________________________________________________________\n",
            "dense_3 (Dense)              (None, 10)                1010      \n",
            "_________________________________________________________________\n",
            "activation_5 (Activation)    (None, 10)                0         \n",
            "=================================================================\n",
            "Total params: 3,717,278\n",
            "Trainable params: 3,717,278\n",
            "Non-trainable params: 0\n",
            "_________________________________________________________________\n"
          ],
          "name": "stdout"
        }
      ]
    },
    {
      "metadata": {
        "id": "RyfqsfFKFigs",
        "colab_type": "code",
        "colab": {
          "base_uri": "https://localhost:8080/",
          "height": 425
        },
        "outputId": "5d2f016b-7302-437c-cccd-7e454d42d908"
      },
      "cell_type": "code",
      "source": [
        "model1.fit(x_train, y_train, batch_size=32, nb_epoch=10, \n",
        "validation_data=(x_test, y_test))"
      ],
      "execution_count": 15,
      "outputs": [
        {
          "output_type": "stream",
          "text": [
            "Train on 60000 samples, validate on 10000 samples\n",
            "Epoch 1/10\n",
            "\r   32/60000 [..............................] - ETA: 4:32 - loss: 7.2725e-07 - acc: 1.0000"
          ],
          "name": "stdout"
        },
        {
          "output_type": "stream",
          "text": [
            "/usr/local/lib/python3.6/dist-packages/ipykernel_launcher.py:2: UserWarning: The `nb_epoch` argument in `fit` has been renamed `epochs`.\n",
            "  \n"
          ],
          "name": "stderr"
        },
        {
          "output_type": "stream",
          "text": [
            "60000/60000 [==============================] - 267s 4ms/step - loss: 1.1893e-04 - acc: 0.9901 - val_loss: 0.0019 - val_acc: 0.9124\n",
            "Epoch 2/10\n",
            "60000/60000 [==============================] - 266s 4ms/step - loss: 1.0761e-04 - acc: 0.9908 - val_loss: 0.0020 - val_acc: 0.9177\n",
            "Epoch 3/10\n",
            "60000/60000 [==============================] - 268s 4ms/step - loss: 1.0141e-04 - acc: 0.9910 - val_loss: 0.0018 - val_acc: 0.9160\n",
            "Epoch 4/10\n",
            "60000/60000 [==============================] - 270s 5ms/step - loss: 9.6114e-05 - acc: 0.9925 - val_loss: 0.0019 - val_acc: 0.9165\n",
            "Epoch 5/10\n",
            "60000/60000 [==============================] - 266s 4ms/step - loss: 8.0824e-05 - acc: 0.9928 - val_loss: 0.0021 - val_acc: 0.9171\n",
            "Epoch 6/10\n",
            "60000/60000 [==============================] - 266s 4ms/step - loss: 9.6280e-05 - acc: 0.9921 - val_loss: 0.0020 - val_acc: 0.9117\n",
            "Epoch 7/10\n",
            "60000/60000 [==============================] - 267s 4ms/step - loss: 8.0917e-05 - acc: 0.9931 - val_loss: 0.0021 - val_acc: 0.9133\n",
            "Epoch 8/10\n",
            "60000/60000 [==============================] - 267s 4ms/step - loss: 7.9333e-05 - acc: 0.9932 - val_loss: 0.0023 - val_acc: 0.9075\n",
            "Epoch 9/10\n",
            "60000/60000 [==============================] - 266s 4ms/step - loss: 8.7792e-05 - acc: 0.9925 - val_loss: 0.0023 - val_acc: 0.9112\n",
            "Epoch 10/10\n",
            "60000/60000 [==============================] - 266s 4ms/step - loss: 8.1250e-05 - acc: 0.9935 - val_loss: 0.0020 - val_acc: 0.9150\n"
          ],
          "name": "stdout"
        },
        {
          "output_type": "execute_result",
          "data": {
            "text/plain": [
              "<keras.callbacks.History at 0x7f612ec5b4a8>"
            ]
          },
          "metadata": {
            "tags": []
          },
          "execution_count": 15
        }
      ]
    },
    {
      "metadata": {
        "id": "zfjiSkHGFigz",
        "colab_type": "code",
        "colab": {
          "base_uri": "https://localhost:8080/",
          "height": 51
        },
        "outputId": "974cbebb-8728-4ad0-8e48-aced0e98379b"
      },
      "cell_type": "code",
      "source": [
        "score = model1.evaluate(x_test, y_test,batch_size=32, verbose=1)\n",
        "\n",
        "print('Test accuracy:', score[1])"
      ],
      "execution_count": 17,
      "outputs": [
        {
          "output_type": "stream",
          "text": [
            "10000/10000 [==============================] - 8s 841us/step\n",
            "Test accuracy: 0.915\n"
          ],
          "name": "stdout"
        }
      ]
    }
  ]
}